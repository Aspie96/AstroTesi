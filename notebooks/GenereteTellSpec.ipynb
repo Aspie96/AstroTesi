{
 "cells": [
  {
   "cell_type": "code",
   "execution_count": 41,
   "metadata": {},
   "outputs": [],
   "source": [
    "import json\n",
    "import os\n",
    "import numpy as np\n",
    "from astropy.io import fits\n",
    "\n",
    "def get_trans(pwv, wres=250000):\n",
    "\tinputs = {\n",
    "\t\t\"incl_moon\": \"N\",\n",
    "\t\t\"incl_loweratm\": \"N\",\n",
    "\t\t\"incl_upperatm\": \"N\",\n",
    "\t\t\"incl_airglow\": \"N\",\n",
    "\t\t\"incl_starlight\": \"N\",\n",
    "\t\t\"pwv\": pwv,\n",
    "\t\t\"wmin\": 2200,\n",
    "\t\t\"wmax\": 2400,\n",
    "\t\t\"wgrid_mode\": \"fixed_spectral_resolution\",\n",
    "\t\t\"wres\": wres\n",
    "\t}\n",
    "\n",
    "\twith open(\"skycalc-inputs.json\", \"w\") as fp:\n",
    "\t\tjson.dump(inputs, fp)\n",
    "\n",
    "\tos.system(\"skycalc_cli -i skycalc-inputs.json -o outputs3.fits\")\n",
    "\twith fits.open(\"outputs3.fits\", memmap=False) as hdul:\n",
    "\t\trect = hdul[1].data\n",
    "\thdul.close()\n",
    "\trow = rect[\"trans\"]\n",
    "\treturn row\n",
    "\n",
    "pwv_values = [0.5, 1.0, 1.5, 2.5, 3.5, 5.0, 7.5, 10.0, 20.0]\n",
    "\n",
    "trans = []\n",
    "for pwv in pwv_values:\n",
    "\trow = get_trans(pwv)\n",
    "\ttrans.append(row)\n",
    "\n",
    "trans = np.asarray(trans)\n",
    "trans.shape"
   ]
  },
  {
   "cell_type": "code",
   "execution_count": 36,
   "metadata": {},
   "outputs": [
    {
     "data": {
      "text/plain": [
       "array([[0.91450541, 0.93732338, 0.94901085, ..., 0.97369355, 0.97856674,\n",
       "        0.97472175],\n",
       "       [0.90604027, 0.93088946, 0.9441435 , ..., 0.97195438, 0.9766358 ,\n",
       "        0.97280923],\n",
       "       [0.89802767, 0.92467336, 0.93949795, ..., 0.97006336, 0.97467153,\n",
       "        0.97078064],\n",
       "       ...,\n",
       "       [0.80915115, 0.853905  , 0.88575979, ..., 0.941359  , 0.94501341,\n",
       "        0.94020598],\n",
       "       [0.7742725 , 0.82595587, 0.86430552, ..., 0.92750706, 0.93049543,\n",
       "        0.92505101],\n",
       "       [0.65653646, 0.72683868, 0.78497213, ..., 0.86000344, 0.86171804,\n",
       "        0.85532773]])"
      ]
     },
     "execution_count": 36,
     "metadata": {},
     "output_type": "execute_result"
    }
   ],
   "source": [
    "telGrid = jnp.load(\"../data/trGrid_crires.npy\")\n",
    "telGrid.shape"
   ]
  },
  {
   "cell_type": "code",
   "execution_count": 39,
   "metadata": {},
   "outputs": [
    {
     "data": {
      "text/plain": [
       "True"
      ]
     },
     "execution_count": 39,
     "metadata": {},
     "output_type": "execute_result"
    }
   ],
   "source": [
    "(trans == telGrid).all()"
   ]
  },
  {
   "cell_type": "code",
   "execution_count": 42,
   "metadata": {},
   "outputs": [],
   "source": [
    "trans = []\n",
    "for pwv in pwv_values:\n",
    "\trow = get_trans(pwv, wres=1000000)\n",
    "\ttrans.append(row)\n",
    "\t\n",
    "trans = np.asarray(trans)"
   ]
  },
  {
   "cell_type": "code",
   "execution_count": 45,
   "metadata": {},
   "outputs": [],
   "source": [
    "np.save(\"../data/trGrid_highRes.npy\", trans)"
   ]
  }
 ],
 "metadata": {
  "kernelspec": {
   "display_name": "venv",
   "language": "python",
   "name": "python3"
  },
  "language_info": {
   "codemirror_mode": {
    "name": "ipython",
    "version": 3
   },
   "file_extension": ".py",
   "mimetype": "text/x-python",
   "name": "python",
   "nbconvert_exporter": "python",
   "pygments_lexer": "ipython3",
   "version": "3.11.5"
  }
 },
 "nbformat": 4,
 "nbformat_minor": 2
}
