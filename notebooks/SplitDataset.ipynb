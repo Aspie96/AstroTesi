{
 "cells": [
  {
   "cell_type": "code",
   "execution_count": 1,
   "metadata": {},
   "outputs": [],
   "source": [
    "from pathlib import Path\n",
    "import numpy as np\n",
    "from sklearn.model_selection import train_test_split\n",
    "\n",
    "DATA_DIR = Path(\"../data\")\n",
    "\n",
    "cube = np.load(DATA_DIR / \"spectralCube.npy\")\n",
    "\n",
    "nprofs, *_, spec_size = cube.shape\n",
    "\n",
    "x = cube.reshape((nprofs, -1, spec_size))\n",
    "_, specs_per_prof, _ = x.shape\n",
    "profs = np.tile(np.arange(5)[:, None], specs_per_prof)\n",
    "\n",
    "x = x.reshape((-1, spec_size))\n",
    "profs = profs.flatten()\n",
    "\n",
    "x_train, x_test, profs_train, profs_test = train_test_split(x, profs, test_size=0.5, random_state=42, stratify=profs)\n",
    "\n",
    "np.save(DATA_DIR / \"planet_specs_train.npy\", x_train)\n",
    "np.save(DATA_DIR / \"planet_profs_train.npy\", profs_train)\n",
    "#np.save(DATA_DIR / \"planet_specs_test.npy\", x_test)\n",
    "#np.save(DATA_DIR / \"planet_profs_test.npy\", profs_test)"
   ]
  }
 ],
 "metadata": {
  "kernelspec": {
   "display_name": "venv",
   "language": "python",
   "name": "python3"
  },
  "language_info": {
   "codemirror_mode": {
    "name": "ipython",
    "version": 3
   },
   "file_extension": ".py",
   "mimetype": "text/x-python",
   "name": "python",
   "nbconvert_exporter": "python",
   "pygments_lexer": "ipython3",
   "version": "3.11.5"
  }
 },
 "nbformat": 4,
 "nbformat_minor": 2
}
