{
 "cells": [
  {
   "cell_type": "code",
   "execution_count": 88,
   "metadata": {},
   "outputs": [],
   "source": [
    "from astropy.io import fits\n",
    "import numpy as np\n",
    "\n",
    "hdul = fits.open(\"../../outputs4.fits\")"
   ]
  },
  {
   "cell_type": "code",
   "execution_count": 93,
   "metadata": {},
   "outputs": [
    {
     "data": {
      "text/plain": [
       "ColDefs(\n",
       "    name = 'lam'; format = '1D'; unit = 'nm'\n",
       "    name = 'flux'; format = '1D'; unit = 'ph/s/m2/micron/arcsec2'\n",
       "    name = 'dflux1'; format = '1D'; unit = 'ph/s/m2/micron/arcsec2'\n",
       "    name = 'dflux2'; format = '1D'; unit = 'ph/s/m2/micron/arcsec2'\n",
       "    name = 'trans'; format = '1D'; unit = '1'\n",
       "    name = 'dtrans1'; format = '1D'; unit = '1'\n",
       "    name = 'dtrans2'; format = '1D'; unit = '1'\n",
       "    name = 'flux_sml'; format = '1D'; unit = 'ph/s/m2/micron/arcsec2'\n",
       "    name = 'flux_ssl'; format = '1D'; unit = 'ph/s/m2/micron/arcsec2'\n",
       "    name = 'flux_zl'; format = '1D'; unit = 'ph/s/m2/micron/arcsec2'\n",
       "    name = 'flux_tie'; format = '1D'; unit = 'ph/s/m2/micron/arcsec2'\n",
       "    name = 'flux_tme'; format = '1D'; unit = 'ph/s/m2/micron/arcsec2'\n",
       "    name = 'flux_ael'; format = '1D'; unit = 'ph/s/m2/micron/arcsec2'\n",
       "    name = 'flux_arc'; format = '1D'; unit = 'ph/s/m2/micron/arcsec2'\n",
       "    name = 'trans_ma'; format = '1D'; unit = '1'\n",
       "    name = 'trans_o3'; format = '1D'; unit = '1'\n",
       "    name = 'trans_rs'; format = '1D'; unit = '1'\n",
       "    name = 'trans_ms'; format = '1D'; unit = '1'\n",
       ")"
      ]
     },
     "execution_count": 93,
     "metadata": {},
     "output_type": "execute_result"
    }
   ],
   "source": [
    "a = hdul[1]\n",
    "rec = a.data\n",
    "rec.columns"
   ]
  }
 ],
 "metadata": {
  "kernelspec": {
   "display_name": "venv",
   "language": "python",
   "name": "python3"
  },
  "language_info": {
   "codemirror_mode": {
    "name": "ipython",
    "version": 3
   },
   "file_extension": ".py",
   "mimetype": "text/x-python",
   "name": "python",
   "nbconvert_exporter": "python",
   "pygments_lexer": "ipython3",
   "version": "3.11.5"
  }
 },
 "nbformat": 4,
 "nbformat_minor": 2
}
