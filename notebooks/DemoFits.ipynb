{
 "cells": [
  {
   "cell_type": "code",
   "execution_count": 1,
   "metadata": {},
   "outputs": [],
   "source": [
    "from astropy.io import fits\n",
    "import numpy as np\n",
    "\n",
    "hdul = fits.open(\"../../outputs4.fits\")"
   ]
  },
  {
   "cell_type": "code",
   "execution_count": 25,
   "metadata": {},
   "outputs": [
    {
     "name": "stdout",
     "output_type": "stream",
     "text": [
      "[0.90604027 0.93088946 0.9441435  ... 0.97195438 0.9766358  0.97280923]\n",
      "[0.91021237 0.93517595 0.948491   ... 0.97587499 0.98057527 0.97673325]\n",
      "0.9954163515266411\n",
      "0.9959825114025724\n",
      "0.05266441240654368\n",
      "0.9956406567161233\n",
      "0.05287798231259181\n",
      "0.9998962644550085\n"
     ]
    }
   ],
   "source": [
    "print(rec[\"trans\"])\n",
    "print(rec[\"trans_ma\"])\n",
    "print((rec[\"trans\"] / rec[\"trans_ma\"]).min())\n",
    "print((rec[\"trans\"] / rec[\"trans_ma\"]).max())\n",
    "print(rec[\"trans\"].min())\n",
    "print(rec[\"trans\"].max())\n",
    "print(rec[\"trans_ma\"].min())\n",
    "print(rec[\"trans_ma\"].max())"
   ]
  }
 ],
 "metadata": {
  "kernelspec": {
   "display_name": "venv",
   "language": "python",
   "name": "python3"
  },
  "language_info": {
   "codemirror_mode": {
    "name": "ipython",
    "version": 3
   },
   "file_extension": ".py",
   "mimetype": "text/x-python",
   "name": "python",
   "nbconvert_exporter": "python",
   "pygments_lexer": "ipython3",
   "version": "3.11.5"
  }
 },
 "nbformat": 4,
 "nbformat_minor": 2
}
